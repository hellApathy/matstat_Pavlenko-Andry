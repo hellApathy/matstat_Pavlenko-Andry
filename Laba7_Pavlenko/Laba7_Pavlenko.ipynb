{
 "cells": [
  {
   "cell_type": "code",
   "execution_count": 1,
   "id": "c9f5eab8-a593-42ca-adba-fa429dfb3f79",
   "metadata": {},
   "outputs": [
    {
     "name": "stdout",
     "output_type": "stream",
     "text": [
      "Heap: [79, 69, 14, 67, 68, 9, 6, 5, 16, 25]\n",
      "Max element removed: 90\n"
     ]
    }
   ],
   "source": [
    "import random\n",
    "\n",
    "class MaxHeap:\n",
    "    def __init__(self):\n",
    "        self.heap = []\n",
    "\n",
    "    def parent(self, i):\n",
    "        return (i - 1) // 2\n",
    "\n",
    "    def insert(self, k):\n",
    "        self.heap.append(k)\n",
    "        self.heapify_up(len(self.heap) - 1)\n",
    "\n",
    "    def heapify_up(self, i):\n",
    "        while i != 0 and self.heap[self.parent(i)] < self.heap[i]:\n",
    "            self.heap[self.parent(i)], self.heap[i] = self.heap[i], self.heap[self.parent(i)]\n",
    "            i = self.parent(i)\n",
    "\n",
    "    def extract_max(self):\n",
    "        if len(self.heap) == 0:\n",
    "            return None\n",
    "        max_value = self.heap[0]\n",
    "        self.heap[0] = self.heap[-1]\n",
    "        self.heap.pop()\n",
    "        self.heapify_down(0)\n",
    "        return max_value\n",
    "\n",
    "    def heapify_down(self, i):\n",
    "        max_index = i\n",
    "        left_child = 2 * i + 1\n",
    "        right_child = 2 * i + 2\n",
    "\n",
    "        if left_child < len(self.heap) and self.heap[left_child] > self.heap[max_index]:\n",
    "            max_index = left_child\n",
    "\n",
    "        if right_child < len(self.heap) and self.heap[right_child] > self.heap[max_index]:\n",
    "            max_index = right_child\n",
    "\n",
    "        if i != max_index:\n",
    "            self.heap[i], self.heap[max_index] = self.heap[max_index], self.heap[i]\n",
    "            self.heapify_down(max_index)\n",
    "\n",
    "def generate_heap(random_array, student_number):\n",
    "    heap = MaxHeap()\n",
    "    for num in random_array:\n",
    "        heap.insert(num)\n",
    "    heap.insert(student_number)\n",
    "    max_element = heap.extract_max()\n",
    "    return heap.heap, max_element\n",
    "\n",
    "random_array = [random.randint(1, 100) for _ in range(10)]\n",
    "student_number = 5  # Приклад номера студента\n",
    "heap, max_element = generate_heap(random_array, student_number)\n",
    "print(\"Heap:\", heap)\n",
    "print(\"Max element removed:\", max_element)"
   ]
  },
  {
   "cell_type": "markdown",
   "id": "4985ea81-38a5-465a-92a2-c0b95d85eecd",
   "metadata": {},
   "source": [
    "Оцінимо асимптотичну складність процедур search, insert і delete роботи з купою:\r\n",
    "\r\n",
    "search: Пошук в купі не підтримується, оскільки купа не призначена для швидкого доступу до елементів. Якщо використовувати метод пошуку в списку, асимптотична складність буде O(N) у середньому і найгіршому випадках.\r\n",
    "\r\n",
    "insert (heapify_up): Асимптотична складність додавання елемента в купу становить O(log N) у середньому і найгіршому випадках, оскільки елемент може піднятися на висоту дерева.\r\n",
    "\r\n",
    "delete (extract_max, heapify_down): Асимптотична складність видалення максимального елемента з купи становить O(log N) у середньому і найгіршому випадках, оскільки елемент може опуститися на висоту дерева."
   ]
  },
  {
   "cell_type": "code",
   "execution_count": null,
   "id": "5c660bb3-946d-4342-8902-fb0377f1e892",
   "metadata": {},
   "outputs": [],
   "source": []
  }
 ],
 "metadata": {
  "kernelspec": {
   "display_name": "Python 3 (ipykernel)",
   "language": "python",
   "name": "python3"
  },
  "language_info": {
   "codemirror_mode": {
    "name": "ipython",
    "version": 3
   },
   "file_extension": ".py",
   "mimetype": "text/x-python",
   "name": "python",
   "nbconvert_exporter": "python",
   "pygments_lexer": "ipython3",
   "version": "3.12.3"
  }
 },
 "nbformat": 4,
 "nbformat_minor": 5
}
