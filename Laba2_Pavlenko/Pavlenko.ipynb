{
 "cells": [
  {
   "cell_type": "markdown",
   "id": "a9210396-2efd-47e7-83f0-0402f1403945",
   "metadata": {},
   "source": [
    "![Anaconda Create](950944ee-a6e1-48c2-b8de-1efe3218d22e.jpg)"
   ]
  },
  {
   "cell_type": "markdown",
   "id": "cf4057a8-ada1-4458-bfc0-7238f20944c0",
   "metadata": {},
   "source": [
    "![Anaconda navigator](a2b0f5f9-22fd-4d3e-82d1-d602191acfbc.jpg)"
   ]
  },
  {
   "cell_type": "markdown",
   "id": "44d0ddd3-cfc3-447a-add7-9d43de8de755",
   "metadata": {},
   "source": [
    "![pip install](e1ed02e7-097e-434d-8190-9055d12184fb.jpg)"
   ]
  },
  {
   "cell_type": "markdown",
   "id": "afca2db5-833a-47b0-b608-b372a81e0fd3",
   "metadata": {},
   "source": [
    "1. Що таке pip і conda та чим вони відрізняються між собою?\n",
    "\n",
    " \n",
    "pip: Стандартний пакетний менеджер для Python, встановлює пакети з PyPI.\n",
    "\n",
    "\n",
    "conda: Пакетний менеджер для багатьох мов (Python, R), управляє середовищами та залежностями, використовується в Anaconda/Miniconda"
   ]
  },
  {
   "cell_type": "markdown",
   "id": "f44d6844-cc3e-4f30-812d-407c1f8cf46d",
   "metadata": {},
   "source": [
    "2. Як виглядатиме виконання пунктів 1–3 індивідуального завдання за допомогою Virtualenv?\n",
    "\n",
    "\n",
    "Встановити virtualenv: pip install virtualenv.\n",
    "\n",
    "Створити віртуальне середовище: virtualenv myenv.\n",
    "\n",
    "Активувати середовище:\n",
    "myenv\\Scripts\\activate"
   ]
  },
  {
   "cell_type": "markdown",
   "id": "b7039f91-30d6-452d-9ec5-c2db9a3228ff",
   "metadata": {},
   "source": [
    "![Photo](2901f193d6f0e6cd675bd5b149c118e5.png)"
   ]
  },
  {
   "cell_type": "markdown",
   "id": "f7490138-a5dc-41b2-9cae-6eb49c5a035b",
   "metadata": {},
   "source": [
    "4. Написати процедуру на Python сортування масиву методом бульбашкиn arr\r\n"
   ]
  },
  {
   "cell_type": "code",
   "execution_count": null,
   "id": "28c13772-bccd-4886-b5e3-99faf9c25f55",
   "metadata": {},
   "outputs": [],
   "source": [
    "def bubble_sort(arr):\n",
    "    n = len(arr)\n",
    "    for i in range(n):\n",
    "        for j in range(0, n-i-1):\n",
    "            if arr[j] > arr[j+1]:\n",
    "                arr[j], arr[j+1] = arr[j+1], arr[j]\n",
    "    return arr"
   ]
  },
  {
   "cell_type": "markdown",
   "id": "7da69834-f6bc-4f1b-a2d1-428e37da94df",
   "metadata": {},
   "source": [
    "5. Як виконати компіляцію вхідного документа Jupyter Notebook з його середовища, не використовуючи інтерфейс командного рядка?\n",
    "\n",
    "   \n",
    "Використати меню File > Download as і вибрати потрібний формат (наприклад, HTML, PDF)."
   ]
  },
  {
   "cell_type": "markdown",
   "id": "c2117e8a-4461-4fe8-8387-8340c471167a",
   "metadata": {},
   "source": [
    "6. Як виконати компіляцію вхідного документа у Quarto?\n",
    "   \n",
    "Встановити Quarto.\n",
    "\n",
    "У Jupyter Notebook, використовувати quarto команду"
   ]
  }
 ],
 "metadata": {
  "kernelspec": {
   "display_name": "Python 3 (ipykernel)",
   "language": "python",
   "name": "python3"
  },
  "language_info": {
   "codemirror_mode": {
    "name": "ipython",
    "version": 3
   },
   "file_extension": ".py",
   "mimetype": "text/x-python",
   "name": "python",
   "nbconvert_exporter": "python",
   "pygments_lexer": "ipython3",
   "version": "3.12.3"
  }
 },
 "nbformat": 4,
 "nbformat_minor": 5
}
