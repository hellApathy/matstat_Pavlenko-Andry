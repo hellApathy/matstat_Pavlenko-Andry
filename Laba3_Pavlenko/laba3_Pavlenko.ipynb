{
 "cells": [
  {
   "cell_type": "markdown",
   "id": "55f81c56-d148-4550-919a-8c606855cd72",
   "metadata": {},
   "source": [
    "Метод вставляння $O(n^2)$"
   ]
  },
  {
   "cell_type": "markdown",
   "id": "3f33e5fc-1a61-4e74-8690-95273b5bfa17",
   "metadata": {},
   "source": [
    "Метод Бульбашки $n^2$\n",
    "\n"
   ]
  },
  {
   "cell_type": "code",
   "execution_count": 2,
   "id": "2a886280-8f52-448d-b6dd-b844be0e5106",
   "metadata": {},
   "outputs": [],
   "source": [
    "def bubble_sort(arr):\n",
    "    n = len(arr)\n",
    "    for i in range(n):\n",
    "        for j in range(0, n-i-1):\n",
    "            if arr[j] > arr[j+1]:\n",
    "                arr[j], arr[j+1] = arr[j+1], arr[j]\n",
    "    return arr\n",
    "\n"
   ]
  },
  {
   "cell_type": "code",
   "execution_count": 4,
   "id": "df6cf065-5572-417f-85f5-0f5f3ba18a15",
   "metadata": {},
   "outputs": [
    {
     "ename": "ModuleNotFoundError",
     "evalue": "No module named 'matplotlib'",
     "output_type": "error",
     "traceback": [
      "\u001b[1;31m---------------------------------------------------------------------------\u001b[0m",
      "\u001b[1;31mModuleNotFoundError\u001b[0m                       Traceback (most recent call last)",
      "Cell \u001b[1;32mIn[4], line 3\u001b[0m\n\u001b[0;32m      1\u001b[0m \u001b[38;5;28;01mimport\u001b[39;00m \u001b[38;5;21;01mtime\u001b[39;00m\n\u001b[0;32m      2\u001b[0m \u001b[38;5;28;01mimport\u001b[39;00m \u001b[38;5;21;01mrandom\u001b[39;00m\n\u001b[1;32m----> 3\u001b[0m \u001b[38;5;28;01mimport\u001b[39;00m \u001b[38;5;21;01mmatplotlib\u001b[39;00m\u001b[38;5;21;01m.\u001b[39;00m\u001b[38;5;21;01mpyplot\u001b[39;00m \u001b[38;5;28;01mas\u001b[39;00m \u001b[38;5;21;01mplt\u001b[39;00m\n\u001b[0;32m      5\u001b[0m \u001b[38;5;66;03m# Алгоритм сортування вставками\u001b[39;00m\n\u001b[0;32m      6\u001b[0m \u001b[38;5;28;01mdef\u001b[39;00m \u001b[38;5;21minsertion_sort\u001b[39m(arr):\n",
      "\u001b[1;31mModuleNotFoundError\u001b[0m: No module named 'matplotlib'"
     ]
    }
   ],
   "source": [
    "import time\n",
    "import random\n",
    "import matplotlib.pyplot as plt\n",
    "\n",
    "# Алгоритм сортування вставками\n",
    "def insertion_sort(arr):\n",
    "    for i in range(1, len(arr)):\n",
    "        key = arr[i]\n",
    "        j = i - 1\n",
    "        while j >= 0 and key < arr[j]:\n",
    "            arr[j + 1] = arr[j]\n",
    "            j -= 1\n",
    "        arr[j + 1] = key\n",
    "    return arr\n",
    "\n",
    "# Алгоритм бульбашкового сортування\n",
    "def bubble_sort(arr):\n",
    "    n = len(arr)\n",
    "    for i in range(n):\n",
    "        for j in range(0, n - i - 1):\n",
    "            if arr[j] > arr[j + 1]:\n",
    "                arr[j], arr[j + 1] = arr[j + 1], arr[j]\n",
    "    return arr\n",
    "\n",
    "# Генерація цілочисельного масиву заданого розміру\n",
    "def generate_random_array(size):\n",
    "    return [random.randint(1, 10000) for _ in range(size)]\n",
    "\n",
    "# Вимірювання часу виконання функції\n",
    "def measure_time(sort_function, arr):\n",
    "    start_time = time.time()\n",
    "    sort_function(arr.copy())\n",
    "    return time.time() - start_time\n",
    "\n",
    "# Розміри масивів\n",
    "sizes = [5, 10, 50, 100, 500, 1000, 2000, 3000, 4000, 5000, 10000, 20000, 50000, 100000]\n",
    "\n",
    "# Заміри часу\n",
    "insertion_times = []\n",
    "bubble_times = []\n",
    "\n",
    "for size in sizes:\n",
    "    arr = generate_random_array(size)\n",
    "    \n",
    "    t_insert = measure_time(insertion_sort, arr)\n",
    "    insertion_times.append(t_insert)\n",
    "    \n",
    "    t_bubble = measure_time(bubble_sort, arr)\n",
    "    bubble_times.append(t_bubble)\n",
    "\n",
    "# Побудова графіків\n",
    "plt.figure(figsize=(12, 6))\n",
    "\n",
    "plt.plot(sizes, insertion_times, label='Insertion Sort', marker='o')\n",
    "plt.plot(sizes, bubble_times, label='Bubble Sort', marker='o')\n",
    "\n",
    "plt.xlabel('Array Size')\n",
    "plt.ylabel('Time (seconds)')\n",
    "plt.title('Time Complexity of Sorting Algorithms')\n",
    "plt.legend()\n",
    "plt.grid(True)\n",
    "plt.xscale('log')\n",
    "plt.yscale('log')\n",
    "\n",
    "plt.show()\n"
   ]
  },
  {
   "cell_type": "code",
   "execution_count": null,
   "id": "fd65c2c9-e5ae-4a40-a9d6-74d6a3a34d22",
   "metadata": {},
   "outputs": [],
   "source": []
  }
 ],
 "metadata": {
  "kernelspec": {
   "display_name": "Python 3 (ipykernel)",
   "language": "python",
   "name": "python3"
  },
  "language_info": {
   "codemirror_mode": {
    "name": "ipython",
    "version": 3
   },
   "file_extension": ".py",
   "mimetype": "text/x-python",
   "name": "python",
   "nbconvert_exporter": "python",
   "pygments_lexer": "ipython3",
   "version": "3.12.3"
  }
 },
 "nbformat": 4,
 "nbformat_minor": 5
}
