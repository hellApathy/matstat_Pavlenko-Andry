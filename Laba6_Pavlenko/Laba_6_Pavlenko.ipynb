{
 "cells": [
  {
   "cell_type": "markdown",
   "id": "cf132432-ad0f-4770-bedc-e8885b5f0ca0",
   "metadata": {},
   "source": [
    "Стек - це абстрактна структура даних типу LIFO (Last In, First Out), де останній елемент, що додається, буде першим, хто видаляється. Основні операції, які можна виконувати зі стеком:\r\n",
    "\r\n",
    "push: додати елемент на вершину стека.\r\n",
    "\r\n",
    "pop: видалити елемент з вершини стека.\r\n",
    "\r\n",
    "peek або top: повернути елемент на вершині стека без видалення.\r\n",
    "\r\n",
    "is_empty: перевірити, чи є стек порожнім.\r\n",
    "\r\n",
    "size: повернути кількість елементів у стеку.\r\n",
    "\r\n",
    "Основна відмінність між стеком та чергою полягає в принципі доступу до елементів. Стек використовує LIFO (Last In, First Out), тоді як черга використовує FIFO (First In, First Out). У стеку елементи додаються і видаляються з одного кінця (вершини), а в черзі елементи додаються з одного кінця (кінець черги) і видаляються з іншого (початок черги)."
   ]
  },
  {
   "cell_type": "code",
   "execution_count": 1,
   "id": "7eac037d-fa53-4abc-80c9-aa0795a0ab0f",
   "metadata": {},
   "outputs": [],
   "source": [
    "class Stack:\n",
    "    def __init__(self):\n",
    "        self.items = []\n",
    "\n",
    "    def push(self, item):\n",
    "        self.items.append(item)\n",
    "\n",
    "    def pop(self):\n",
    "        if not self.is_empty():\n",
    "            return self.items.pop()\n",
    "\n",
    "    def peek(self):\n",
    "        if not self.is_empty():\n",
    "            return self.items[-1]\n",
    "\n",
    "    def is_empty(self):\n",
    "        return not bool(self.items)\n",
    "\n",
    "    def size(self):\n",
    "        return len(self.items)"
   ]
  },
  {
   "cell_type": "code",
   "execution_count": null,
   "id": "714cfef6-c23c-4418-8ffd-a8257d820bc2",
   "metadata": {},
   "outputs": [],
   "source": []
  }
 ],
 "metadata": {
  "kernelspec": {
   "display_name": "Python 3 (ipykernel)",
   "language": "python",
   "name": "python3"
  },
  "language_info": {
   "codemirror_mode": {
    "name": "ipython",
    "version": 3
   },
   "file_extension": ".py",
   "mimetype": "text/x-python",
   "name": "python",
   "nbconvert_exporter": "python",
   "pygments_lexer": "ipython3",
   "version": "3.12.3"
  }
 },
 "nbformat": 4,
 "nbformat_minor": 5
}
