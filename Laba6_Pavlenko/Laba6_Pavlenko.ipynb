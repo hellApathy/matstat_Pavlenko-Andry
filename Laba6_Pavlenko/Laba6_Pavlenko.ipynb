{
 "cells": [
  {
   "cell_type": "code",
   "execution_count": 1,
   "id": "bb7613e1-03b7-4968-8983-ec7c3888df10",
   "metadata": {},
   "outputs": [],
   "source": [
    "class Queue:\n",
    "    def __init__(self):\n",
    "        self.items = []\n",
    "\n",
    "    def is_empty(self):\n",
    "        return not bool(self.items)\n",
    "\n",
    "    def enqueue(self, item):\n",
    "        self.items.append(item)\n",
    "\n",
    "    def dequeue(self):\n",
    "        if not self.is_empty():\n",
    "            return self.items.pop(0)\n",
    "\n",
    "    def size(self):\n",
    "        return len(self.items)\n",
    "\n",
    "    def print_n(self, n):\n",
    "        if n <= self.size():\n",
    "            for i in range(n):\n",
    "                print(self.items[i])\n",
    "        else:\n",
    "            print(\"n is greater than the size of the queue.\")"
   ]
  },
  {
   "cell_type": "markdown",
   "id": "a21c1f3e-f138-4e1d-ade8-f92ec83ec16a",
   "metadata": {},
   "source": [
    "Оцінимо асимптотичну складність процедур search, insert і delete роботи з чергою:\r\n",
    "\r\n",
    "search: Оскільки черга є структурою даних, яка підтримує лише операції додавання та видалення з кінців, пошук елемента в черзі не підтримується. Якщо використовувати метод пошуку в списку, наприклад, index(), асимптотична складність буде O(N) у середньому і найгіршому випадках, оскільки може знадобитися переглянути всі елементи.\r\n",
    "\r\n",
    "insert (enqueue): Операція додавання елемента в кінець черги (enqueue) має асимптотичну складність O(1) у середньому і найгіршому випадках, оскільки елемент додається в кінець списку за сталий час.\r\n",
    "\r\n",
    "delete (dequeue): Операція видалення елемента з початку черги (dequeue) має асимптотичну складність O(1) у середньому випадку, якщо черга реалізована за допомогою циклічного буфера або O(N) у найгіршому випадку, якщо черга реалізована за допомогою звичайного списку (оскільки для видалення елемента з початку списку потрібно зсунути всі інші елементи)."
   ]
  },
  {
   "cell_type": "code",
   "execution_count": null,
   "id": "d31dcce1-ffa7-45a9-bc93-85453eef2774",
   "metadata": {},
   "outputs": [],
   "source": []
  }
 ],
 "metadata": {
  "kernelspec": {
   "display_name": "Python 3 (ipykernel)",
   "language": "python",
   "name": "python3"
  },
  "language_info": {
   "codemirror_mode": {
    "name": "ipython",
    "version": 3
   },
   "file_extension": ".py",
   "mimetype": "text/x-python",
   "name": "python",
   "nbconvert_exporter": "python",
   "pygments_lexer": "ipython3",
   "version": "3.12.3"
  }
 },
 "nbformat": 4,
 "nbformat_minor": 5
}
