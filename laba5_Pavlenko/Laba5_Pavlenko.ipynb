{
 "cells": [
  {
   "cell_type": "markdown",
   "id": "e7f3a3e0-a0d4-4a94-889c-e48f263fb10d",
   "metadata": {},
   "source": [
    "Асимптотична складність алгоритму бінарного пошуку (binary search) в О-нотації становить O(log N), де N - кількість елементів у масиві. Бінарний пошук виконується шляхом повторного ділення масиву навпіл і вимагає логарифмічної кількості кроків для знаходження елемента."
   ]
  },
  {
   "cell_type": "code",
   "execution_count": 1,
   "id": "bbe28b40-b77c-425b-8a22-2cf641ec6b1c",
   "metadata": {},
   "outputs": [
    {
     "ename": "ModuleNotFoundError",
     "evalue": "No module named 'pandas'",
     "output_type": "error",
     "traceback": [
      "\u001b[1;31m---------------------------------------------------------------------------\u001b[0m",
      "\u001b[1;31mModuleNotFoundError\u001b[0m                       Traceback (most recent call last)",
      "Cell \u001b[1;32mIn[1], line 1\u001b[0m\n\u001b[1;32m----> 1\u001b[0m \u001b[38;5;28;01mimport\u001b[39;00m \u001b[38;5;21;01mpandas\u001b[39;00m \u001b[38;5;28;01mas\u001b[39;00m \u001b[38;5;21;01mpd\u001b[39;00m\n\u001b[0;32m      2\u001b[0m \u001b[38;5;28;01mimport\u001b[39;00m \u001b[38;5;21;01mtime\u001b[39;00m\n\u001b[0;32m      4\u001b[0m \u001b[38;5;28;01mdef\u001b[39;00m \u001b[38;5;21mlinear_search\u001b[39m(arr, x):\n",
      "\u001b[1;31mModuleNotFoundError\u001b[0m: No module named 'pandas'"
     ]
    }
   ],
   "source": [
    "import pandas as pd\n",
    "import time\n",
    "\n",
    "def linear_search(arr, x):\n",
    "    for i in range(len(arr)):\n",
    "        if arr[i] == x:\n",
    "            return i\n",
    "    return -1\n",
    "\n",
    "def measure_linear_search_time(n):\n",
    "    arr = list(range(n))\n",
    "    x = n - 1\n",
    "    start_time = time.time()\n",
    "    linear_search(arr, x)\n",
    "    end_time = time.time()\n",
    "    return pd.DataFrame({\"n\": [n], \"time\": [end_time - start_time]})"
   ]
  },
  {
   "cell_type": "code",
   "execution_count": 2,
   "id": "5af89238-54ca-4920-b765-2c7257bfb1ee",
   "metadata": {},
   "outputs": [],
   "source": [
    "def binary_search(arr, low, high, x):\n",
    "    if high >= low:\n",
    "        mid = (high + low) // 2\n",
    "        if arr[mid] == x:\n",
    "            return mid\n",
    "        elif arr[mid] > x:\n",
    "            return binary_search(arr, low, mid - 1, x)\n",
    "        else:\n",
    "            return binary_search(arr, mid + 1, high, x)\n",
    "    else:\n",
    "        return -1\n",
    "\n",
    "def measure_binary_search_time(n):\n",
    "    arr = list(range(n))\n",
    "    x = n - 1\n",
    "    start_time = time.time()\n",
    "    binary_search(arr, 0, len(arr) - 1, x)\n",
    "    end_time = time.time()\n",
    "    return pd.DataFrame({\"n\": [n], \"time\": [end_time - start_time]})"
   ]
  },
  {
   "cell_type": "code",
   "execution_count": 3,
   "id": "72c77609-caa1-46b9-9db6-228f2beb04fd",
   "metadata": {},
   "outputs": [
    {
     "ename": "ModuleNotFoundError",
     "evalue": "No module named 'matplotlib'",
     "output_type": "error",
     "traceback": [
      "\u001b[1;31m---------------------------------------------------------------------------\u001b[0m",
      "\u001b[1;31mModuleNotFoundError\u001b[0m                       Traceback (most recent call last)",
      "Cell \u001b[1;32mIn[3], line 1\u001b[0m\n\u001b[1;32m----> 1\u001b[0m \u001b[38;5;28;01mimport\u001b[39;00m \u001b[38;5;21;01mmatplotlib\u001b[39;00m\u001b[38;5;21;01m.\u001b[39;00m\u001b[38;5;21;01mpyplot\u001b[39;00m \u001b[38;5;28;01mas\u001b[39;00m \u001b[38;5;21;01mplt\u001b[39;00m\n\u001b[0;32m      3\u001b[0m n_values \u001b[38;5;241m=\u001b[39m \u001b[38;5;28mrange\u001b[39m(\u001b[38;5;241m10\u001b[39m, \u001b[38;5;241m1000\u001b[39m, \u001b[38;5;241m10\u001b[39m)\n\u001b[0;32m      4\u001b[0m linear_search_times \u001b[38;5;241m=\u001b[39m []\n",
      "\u001b[1;31mModuleNotFoundError\u001b[0m: No module named 'matplotlib'"
     ]
    }
   ],
   "source": [
    "import matplotlib.pyplot as plt\n",
    "\n",
    "n_values = range(10, 1000, 10)\n",
    "linear_search_times = []\n",
    "binary_search_times = []\n",
    "\n",
    "for n in n_values:\n",
    "    linear_search_result = measure_linear_search_time(n)\n",
    "    binary_search_result = measure_binary_search_time(n)\n",
    "    linear_search_times.append(linear_search_result[\"time\"].values[0])\n",
    "    binary_search_times.append(binary_search_result[\"time\"].values[0])\n",
    "\n",
    "plt.plot(n_values, linear_search_times, label=\"Linear Search\")\n",
    "plt.plot(n_values, binary_search_times, label=\"Binary Search\")\n",
    "plt.xlabel(\"Array size (n)\")\n",
    "plt.ylabel(\"Time (seconds)\")\n",
    "plt.legend()\n",
    "plt.show()"
   ]
  },
  {
   "cell_type": "markdown",
   "id": "a504de54-47df-4dc1-8dc9-fab43a8592b5",
   "metadata": {},
   "source": [
    "За результатами графіків можна зробити висновок, що бінарний пошук є ефективнішим, оскільки його час виконання зростає значно повільніше, ніж у лінійного пошуку. Бінарний пошук є ефективнішим починаючи з невеликих розмірів масиву (десятки елементів) і для більших розмірів. Лінійний пошук може бути кращим для дуже малих масивів через накладні витрати на виконання рекурсивних викликів у бінарному пошуку."
   ]
  },
  {
   "cell_type": "code",
   "execution_count": null,
   "id": "336b7686-9265-404e-850b-c28a20629108",
   "metadata": {},
   "outputs": [],
   "source": []
  }
 ],
 "metadata": {
  "kernelspec": {
   "display_name": "Python 3 (ipykernel)",
   "language": "python",
   "name": "python3"
  },
  "language_info": {
   "codemirror_mode": {
    "name": "ipython",
    "version": 3
   },
   "file_extension": ".py",
   "mimetype": "text/x-python",
   "name": "python",
   "nbconvert_exporter": "python",
   "pygments_lexer": "ipython3",
   "version": "3.12.3"
  }
 },
 "nbformat": 4,
 "nbformat_minor": 5
}
