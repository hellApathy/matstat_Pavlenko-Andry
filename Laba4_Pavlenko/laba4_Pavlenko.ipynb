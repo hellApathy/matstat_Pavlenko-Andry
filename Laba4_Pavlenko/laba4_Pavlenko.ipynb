{
 "cells": [
  {
   "cell_type": "markdown",
   "id": "cc6acf68-79ba-47ff-b3d7-ae327a48fa3a",
   "metadata": {},
   "source": [
    "Асимптотична складність алгоритму сортування злиттям є O(n log n)."
   ]
  },
  {
   "cell_type": "code",
   "execution_count": null,
   "id": "f4a63426-67fc-4226-b103-5affbd145158",
   "metadata": {},
   "outputs": [],
   "source": []
  }
 ],
 "metadata": {
  "kernelspec": {
   "display_name": "Python 3 (ipykernel)",
   "language": "python",
   "name": "python3"
  },
  "language_info": {
   "codemirror_mode": {
    "name": "ipython",
    "version": 3
   },
   "file_extension": ".py",
   "mimetype": "text/x-python",
   "name": "python",
   "nbconvert_exporter": "python",
   "pygments_lexer": "ipython3",
   "version": "3.12.3"
  }
 },
 "nbformat": 4,
 "nbformat_minor": 5
}
